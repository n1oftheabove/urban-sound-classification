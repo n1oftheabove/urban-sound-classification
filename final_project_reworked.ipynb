{
 "cells": [
  {
   "cell_type": "code",
   "execution_count": 1,
   "metadata": {},
   "outputs": [
    {
     "data": {
      "application/javascript": [
       "$.getScript('https://kmahelona.github.io/ipython_notebook_goodies/ipython_notebook_toc.js')\n"
      ],
      "text/plain": [
       "<IPython.core.display.Javascript object>"
      ]
     },
     "metadata": {},
     "output_type": "display_data"
    }
   ],
   "source": [
    "%%javascript\n",
    "$.getScript('https://kmahelona.github.io/ipython_notebook_goodies/ipython_notebook_toc.js')"
   ]
  },
  {
   "cell_type": "code",
   "execution_count": 1,
   "metadata": {},
   "outputs": [
    {
     "ename": "NameError",
     "evalue": "name 'calc_chroma' is not defined",
     "output_type": "error",
     "traceback": [
      "\u001b[0;31m---------------------------------------------------------------------------\u001b[0m",
      "\u001b[0;31mNameError\u001b[0m                                 Traceback (most recent call last)",
      "\u001b[0;32m<ipython-input-1-7083d8a31137>\u001b[0m in \u001b[0;36m<module>\u001b[0;34m\u001b[0m\n\u001b[1;32m     29\u001b[0m \u001b[0;32mfrom\u001b[0m \u001b[0murban_sound_python\u001b[0m\u001b[0;34m.\u001b[0m\u001b[0mplotting\u001b[0m \u001b[0;32mimport\u001b[0m \u001b[0mplot_duration_and_count_of_sounds\u001b[0m\u001b[0;34m\u001b[0m\u001b[0;34m\u001b[0m\u001b[0m\n\u001b[1;32m     30\u001b[0m \u001b[0;32mfrom\u001b[0m \u001b[0murban_sound_python\u001b[0m\u001b[0;34m.\u001b[0m\u001b[0mplotting\u001b[0m \u001b[0;32mimport\u001b[0m \u001b[0mplot_duration_for_classes\u001b[0m\u001b[0;34m\u001b[0m\u001b[0;34m\u001b[0m\u001b[0m\n\u001b[0;32m---> 31\u001b[0;31m \u001b[0;32mfrom\u001b[0m \u001b[0murban_sound_python\u001b[0m\u001b[0;34m.\u001b[0m\u001b[0mlibrosa_feature_generation\u001b[0m \u001b[0;32mimport\u001b[0m \u001b[0mcalc_chroma\u001b[0m\u001b[0;34m,\u001b[0m \u001b[0mcalc_mfcc\u001b[0m\u001b[0;34m,\u001b[0m \u001b[0mcalc_zcr\u001b[0m\u001b[0;34m,\u001b[0m \u001b[0mcalc_sc\u001b[0m\u001b[0;34m,\u001b[0m \u001b[0mcalc_sr\u001b[0m\u001b[0;34m,\u001b[0m \u001b[0mcalc_sb\u001b[0m\u001b[0;34m,\u001b[0m \u001b[0mcalc_rms\u001b[0m\u001b[0;34m\u001b[0m\u001b[0;34m\u001b[0m\u001b[0m\n\u001b[0m\u001b[1;32m     32\u001b[0m \u001b[0;32mfrom\u001b[0m \u001b[0murban_sound_python\u001b[0m\u001b[0;34m.\u001b[0m\u001b[0mlibrosa_feature_generation\u001b[0m \u001b[0;32mimport\u001b[0m \u001b[0mfeats_from_sound\u001b[0m\u001b[0;34m,\u001b[0m \u001b[0mfeats_from_sounds\u001b[0m\u001b[0;34m,\u001b[0m \u001b[0mgenerate_original_dataframe\u001b[0m\u001b[0;34m\u001b[0m\u001b[0;34m\u001b[0m\u001b[0m\n\u001b[1;32m     33\u001b[0m \u001b[0;31m# config file specifying which features needed to be generated\u001b[0m\u001b[0;34m\u001b[0m\u001b[0;34m\u001b[0m\u001b[0;34m\u001b[0m\u001b[0m\n",
      "\u001b[0;32m~/Documents/coding/ironhack/urban-sound-classification/urban_sound_python/librosa_feature_generation.py\u001b[0m in \u001b[0;36m<module>\u001b[0;34m\u001b[0m\n\u001b[1;32m      2\u001b[0m \u001b[0;32mimport\u001b[0m \u001b[0mnumpy\u001b[0m \u001b[0;32mas\u001b[0m \u001b[0mnp\u001b[0m\u001b[0;34m\u001b[0m\u001b[0;34m\u001b[0m\u001b[0m\n\u001b[1;32m      3\u001b[0m \u001b[0;32mfrom\u001b[0m \u001b[0mtqdm\u001b[0m\u001b[0;34m.\u001b[0m\u001b[0mauto\u001b[0m \u001b[0;32mimport\u001b[0m \u001b[0mtqdm\u001b[0m\u001b[0;34m\u001b[0m\u001b[0;34m\u001b[0m\u001b[0m\n\u001b[0;32m----> 4\u001b[0;31m \u001b[0;32mfrom\u001b[0m \u001b[0murban_sound_python\u001b[0m\u001b[0;34m.\u001b[0m\u001b[0mlibrosa_feature_config\u001b[0m \u001b[0;32mimport\u001b[0m \u001b[0mget_column_headers_from_config\u001b[0m\u001b[0;34m\u001b[0m\u001b[0;34m\u001b[0m\u001b[0m\n\u001b[0m\u001b[1;32m      5\u001b[0m \u001b[0;34m\u001b[0m\u001b[0m\n\u001b[1;32m      6\u001b[0m \u001b[0;32mdef\u001b[0m \u001b[0mcalc_chroma\u001b[0m\u001b[0;34m(\u001b[0m\u001b[0my\u001b[0m\u001b[0;34m,\u001b[0m \u001b[0msr\u001b[0m\u001b[0;34m)\u001b[0m\u001b[0;34m:\u001b[0m\u001b[0;34m\u001b[0m\u001b[0;34m\u001b[0m\u001b[0m\n",
      "\u001b[0;32m~/Documents/coding/ironhack/urban-sound-classification/urban_sound_python/librosa_feature_config.py\u001b[0m in \u001b[0;36m<module>\u001b[0;34m\u001b[0m\n\u001b[1;32m      2\u001b[0m \u001b[0;34m\u001b[0m\u001b[0m\n\u001b[1;32m      3\u001b[0m \u001b[0;31m# provide here which librosa features to calculate & their statistical metrics\u001b[0m\u001b[0;34m\u001b[0m\u001b[0;34m\u001b[0m\u001b[0;34m\u001b[0m\u001b[0m\n\u001b[0;32m----> 4\u001b[0;31m librosa_config = {'chroma': {'func':calc_chroma,\n\u001b[0m\u001b[1;32m      5\u001b[0m                           \u001b[0;34m'measures'\u001b[0m\u001b[0;34m:\u001b[0m \u001b[0;34m[\u001b[0m\u001b[0mnp\u001b[0m\u001b[0;34m.\u001b[0m\u001b[0mstd\u001b[0m\u001b[0;34m,\u001b[0m \u001b[0mnp\u001b[0m\u001b[0;34m.\u001b[0m\u001b[0mmean\u001b[0m\u001b[0;34m]\u001b[0m\u001b[0;34m\u001b[0m\u001b[0;34m\u001b[0m\u001b[0m\n\u001b[1;32m      6\u001b[0m                          },\n",
      "\u001b[0;31mNameError\u001b[0m: name 'calc_chroma' is not defined"
     ]
    }
   ],
   "source": [
    "# audio libraries\n",
    "import librosa\n",
    "import librosa.display\n",
    "import IPython.display as ipd  # to display spectra\n",
    "\n",
    "import pandas as pd\n",
    "import numpy as np\n",
    "import seaborn as sns\n",
    "import matplotlib.pyplot as plt\n",
    "\n",
    "from tqdm.notebook import tqdm\n",
    "\n",
    "# preprocessing\n",
    "from sklearn.preprocessing import StandardScaler\n",
    "\n",
    "# ML\n",
    "from sklearn.ensemble import RandomForestClassifier\n",
    "from sklearn.model_selection import train_test_split\n",
    "from sklearn.model_selection import GridSearchCV\n",
    "from sklearn.metrics import accuracy_score, precision_score, recall_score, f1_score, confusion_matrix, plot_confusion_matrix, classification_report\n",
    "\n",
    "from imblearn.pipeline import make_pipeline\n",
    "from imblearn.over_sampling import SMOTE\n",
    "\n",
    "# custom project helper functions\n",
    "from urban_sound_python.helper_functions import get_filepaths_from_dir\n",
    "from urban_sound_python.helper_functions import get_filenames_from_dir\n",
    "from urban_sound_python.helper_functions import get_class_from_meta\n",
    "from urban_sound_python.plotting import plot_duration_and_count_of_sounds\n",
    "from urban_sound_python.plotting import plot_duration_for_classes\n",
    "from urban_sound_python.librosa_feature_generation import calc_chroma, calc_mfcc, calc_zcr, calc_sc, calc_sr, calc_sb, calc_rms\n",
    "from urban_sound_python.librosa_feature_generation import feats_from_sound, feats_from_sounds, generate_original_dataframe\n",
    "# config file specifying which features needed to be generated\n",
    "from urban_sound_python.librosa_feature_config import librosa_config\n",
    "from urban_sound_python.librosa_feature_config import get_column_headers_from_config\n",
    "\n",
    "### sns plot aesthetics\n",
    "sns.set_style(\"dark\")"
   ]
  },
  {
   "cell_type": "code",
   "execution_count": 3,
   "metadata": {},
   "outputs": [],
   "source": [
    "# where are all the audio files?\n",
    "DIR_ALL_AUDIO = './data/all'"
   ]
  },
  {
   "cell_type": "markdown",
   "metadata": {},
   "source": [
    "<h1 id=\"tocheading\">Table of Contents</h1>\n",
    "<div id=\"toc\"></div>"
   ]
  },
  {
   "cell_type": "markdown",
   "metadata": {},
   "source": [
    "# Inspect the database"
   ]
  },
  {
   "cell_type": "code",
   "execution_count": 4,
   "metadata": {},
   "outputs": [],
   "source": [
    "# run this to store all paths to all audio files in a list\n",
    "all_audio_path_list = get_filepaths_from_dir(DIR_ALL_AUDIO)\n",
    "all_audio_filenames = get_filenames_from_dir(DIR_ALL_AUDIO)"
   ]
  },
  {
   "cell_type": "markdown",
   "metadata": {},
   "source": [
    "## Metadata"
   ]
  },
  {
   "cell_type": "code",
   "execution_count": 5,
   "metadata": {},
   "outputs": [],
   "source": [
    "df_meta = pd.read_csv('./data/UrbanSound8K.csv')"
   ]
  },
  {
   "cell_type": "code",
   "execution_count": 6,
   "metadata": {},
   "outputs": [
    {
     "data": {
      "text/html": [
       "<div>\n",
       "<style scoped>\n",
       "    .dataframe tbody tr th:only-of-type {\n",
       "        vertical-align: middle;\n",
       "    }\n",
       "\n",
       "    .dataframe tbody tr th {\n",
       "        vertical-align: top;\n",
       "    }\n",
       "\n",
       "    .dataframe thead th {\n",
       "        text-align: right;\n",
       "    }\n",
       "</style>\n",
       "<table border=\"1\" class=\"dataframe\">\n",
       "  <thead>\n",
       "    <tr style=\"text-align: right;\">\n",
       "      <th></th>\n",
       "      <th>slice_file_name</th>\n",
       "      <th>fsID</th>\n",
       "      <th>start</th>\n",
       "      <th>end</th>\n",
       "      <th>salience</th>\n",
       "      <th>fold</th>\n",
       "      <th>classID</th>\n",
       "      <th>class</th>\n",
       "    </tr>\n",
       "  </thead>\n",
       "  <tbody>\n",
       "    <tr>\n",
       "      <th>171</th>\n",
       "      <td>103074-7-0-0.wav</td>\n",
       "      <td>103074</td>\n",
       "      <td>3.341279</td>\n",
       "      <td>7.341279</td>\n",
       "      <td>1</td>\n",
       "      <td>1</td>\n",
       "      <td>7</td>\n",
       "      <td>jackhammer</td>\n",
       "    </tr>\n",
       "    <tr>\n",
       "      <th>172</th>\n",
       "      <td>103074-7-0-1.wav</td>\n",
       "      <td>103074</td>\n",
       "      <td>3.841279</td>\n",
       "      <td>7.841279</td>\n",
       "      <td>1</td>\n",
       "      <td>1</td>\n",
       "      <td>7</td>\n",
       "      <td>jackhammer</td>\n",
       "    </tr>\n",
       "    <tr>\n",
       "      <th>173</th>\n",
       "      <td>103074-7-0-2.wav</td>\n",
       "      <td>103074</td>\n",
       "      <td>4.341279</td>\n",
       "      <td>8.341279</td>\n",
       "      <td>1</td>\n",
       "      <td>1</td>\n",
       "      <td>7</td>\n",
       "      <td>jackhammer</td>\n",
       "    </tr>\n",
       "    <tr>\n",
       "      <th>174</th>\n",
       "      <td>103074-7-1-0.wav</td>\n",
       "      <td>103074</td>\n",
       "      <td>22.517317</td>\n",
       "      <td>26.517317</td>\n",
       "      <td>1</td>\n",
       "      <td>1</td>\n",
       "      <td>7</td>\n",
       "      <td>jackhammer</td>\n",
       "    </tr>\n",
       "    <tr>\n",
       "      <th>175</th>\n",
       "      <td>103074-7-1-1.wav</td>\n",
       "      <td>103074</td>\n",
       "      <td>23.017317</td>\n",
       "      <td>27.017317</td>\n",
       "      <td>1</td>\n",
       "      <td>1</td>\n",
       "      <td>7</td>\n",
       "      <td>jackhammer</td>\n",
       "    </tr>\n",
       "    <tr>\n",
       "      <th>...</th>\n",
       "      <td>...</td>\n",
       "      <td>...</td>\n",
       "      <td>...</td>\n",
       "      <td>...</td>\n",
       "      <td>...</td>\n",
       "      <td>...</td>\n",
       "      <td>...</td>\n",
       "      <td>...</td>\n",
       "    </tr>\n",
       "    <tr>\n",
       "      <th>8658</th>\n",
       "      <td>98859-7-2-1.wav</td>\n",
       "      <td>98859</td>\n",
       "      <td>10.374292</td>\n",
       "      <td>14.374292</td>\n",
       "      <td>1</td>\n",
       "      <td>9</td>\n",
       "      <td>7</td>\n",
       "      <td>jackhammer</td>\n",
       "    </tr>\n",
       "    <tr>\n",
       "      <th>8659</th>\n",
       "      <td>98859-7-2-2.wav</td>\n",
       "      <td>98859</td>\n",
       "      <td>10.874292</td>\n",
       "      <td>14.874292</td>\n",
       "      <td>1</td>\n",
       "      <td>9</td>\n",
       "      <td>7</td>\n",
       "      <td>jackhammer</td>\n",
       "    </tr>\n",
       "    <tr>\n",
       "      <th>8660</th>\n",
       "      <td>98859-7-2-3.wav</td>\n",
       "      <td>98859</td>\n",
       "      <td>11.374292</td>\n",
       "      <td>15.374292</td>\n",
       "      <td>1</td>\n",
       "      <td>9</td>\n",
       "      <td>7</td>\n",
       "      <td>jackhammer</td>\n",
       "    </tr>\n",
       "    <tr>\n",
       "      <th>8661</th>\n",
       "      <td>98859-7-2-4.wav</td>\n",
       "      <td>98859</td>\n",
       "      <td>11.874292</td>\n",
       "      <td>15.874292</td>\n",
       "      <td>1</td>\n",
       "      <td>9</td>\n",
       "      <td>7</td>\n",
       "      <td>jackhammer</td>\n",
       "    </tr>\n",
       "    <tr>\n",
       "      <th>8662</th>\n",
       "      <td>98859-7-2-5.wav</td>\n",
       "      <td>98859</td>\n",
       "      <td>12.374292</td>\n",
       "      <td>16.374292</td>\n",
       "      <td>1</td>\n",
       "      <td>9</td>\n",
       "      <td>7</td>\n",
       "      <td>jackhammer</td>\n",
       "    </tr>\n",
       "  </tbody>\n",
       "</table>\n",
       "<p>1000 rows × 8 columns</p>\n",
       "</div>"
      ],
      "text/plain": [
       "       slice_file_name    fsID      start        end  salience  fold  classID  \\\n",
       "171   103074-7-0-0.wav  103074   3.341279   7.341279         1     1        7   \n",
       "172   103074-7-0-1.wav  103074   3.841279   7.841279         1     1        7   \n",
       "173   103074-7-0-2.wav  103074   4.341279   8.341279         1     1        7   \n",
       "174   103074-7-1-0.wav  103074  22.517317  26.517317         1     1        7   \n",
       "175   103074-7-1-1.wav  103074  23.017317  27.017317         1     1        7   \n",
       "...                ...     ...        ...        ...       ...   ...      ...   \n",
       "8658   98859-7-2-1.wav   98859  10.374292  14.374292         1     9        7   \n",
       "8659   98859-7-2-2.wav   98859  10.874292  14.874292         1     9        7   \n",
       "8660   98859-7-2-3.wav   98859  11.374292  15.374292         1     9        7   \n",
       "8661   98859-7-2-4.wav   98859  11.874292  15.874292         1     9        7   \n",
       "8662   98859-7-2-5.wav   98859  12.374292  16.374292         1     9        7   \n",
       "\n",
       "           class  \n",
       "171   jackhammer  \n",
       "172   jackhammer  \n",
       "173   jackhammer  \n",
       "174   jackhammer  \n",
       "175   jackhammer  \n",
       "...          ...  \n",
       "8658  jackhammer  \n",
       "8659  jackhammer  \n",
       "8660  jackhammer  \n",
       "8661  jackhammer  \n",
       "8662  jackhammer  \n",
       "\n",
       "[1000 rows x 8 columns]"
      ]
     },
     "execution_count": 6,
     "metadata": {},
     "output_type": "execute_result"
    }
   ],
   "source": [
    "df_meta[df_meta['class']=='jackhammer']"
   ]
  },
  {
   "cell_type": "markdown",
   "metadata": {},
   "source": [
    "What am I classifying? What are the unique values?"
   ]
  },
  {
   "cell_type": "code",
   "execution_count": 7,
   "metadata": {},
   "outputs": [
    {
     "data": {
      "text/plain": [
       "street_music        1000\n",
       "engine_idling       1000\n",
       "children_playing    1000\n",
       "dog_bark            1000\n",
       "drilling            1000\n",
       "air_conditioner     1000\n",
       "jackhammer          1000\n",
       "siren                929\n",
       "car_horn             429\n",
       "gun_shot             374\n",
       "Name: class, dtype: int64"
      ]
     },
     "execution_count": 7,
     "metadata": {},
     "output_type": "execute_result"
    }
   ],
   "source": [
    "df_meta['class'].value_counts()"
   ]
  },
  {
   "cell_type": "code",
   "execution_count": 8,
   "metadata": {},
   "outputs": [
    {
     "data": {
      "text/plain": [
       "array(['dog_bark', 'children_playing', 'car_horn', 'air_conditioner',\n",
       "       'street_music', 'gun_shot', 'siren', 'engine_idling', 'jackhammer',\n",
       "       'drilling'], dtype=object)"
      ]
     },
     "execution_count": 8,
     "metadata": {},
     "output_type": "execute_result"
    }
   ],
   "source": [
    "df_meta['class'].unique()"
   ]
  },
  {
   "cell_type": "markdown",
   "metadata": {},
   "source": [
    "## Checking for class balancing and time duration of sound snippets"
   ]
  },
  {
   "cell_type": "markdown",
   "metadata": {},
   "source": [
    "Creating another column for the duration of the sounds"
   ]
  },
  {
   "cell_type": "code",
   "execution_count": 9,
   "metadata": {},
   "outputs": [],
   "source": [
    "df_meta['duration'] = df_meta['end'] - df_meta['start']"
   ]
  },
  {
   "cell_type": "code",
   "execution_count": 10,
   "metadata": {},
   "outputs": [
    {
     "data": {
      "image/png": "[encoded data removed]",
      "text/plain": [
       "<Figure size 1008x576 with 2 Axes>"
      ]
     },
     "metadata": {},
     "output_type": "display_data"
    }
   ],
   "source": [
    "plot_duration_and_count_of_sounds(df_meta)"
   ]
  },
  {
   "cell_type": "markdown",
   "metadata": {},
   "source": [
    "Observations:\n",
    "* Except `gun_shot` and `car_horn` all other target categories are fairly balanced"
   ]
  },
  {
   "cell_type": "code",
   "execution_count": 11,
   "metadata": {},
   "outputs": [
    {
     "data": {
      "text/plain": [
       "10"
      ]
     },
     "execution_count": 11,
     "metadata": {},
     "output_type": "execute_result"
    }
   ],
   "source": [
    "# number of uniqe classes\n",
    "len(df_meta['class'].value_counts())"
   ]
  },
  {
   "cell_type": "markdown",
   "metadata": {},
   "source": [
    "### Plotting frequency of duration of music files for different classes."
   ]
  },
  {
   "cell_type": "code",
   "execution_count": 12,
   "metadata": {},
   "outputs": [
    {
     "data": {
      "image/png": "[encoded data removed]",
      "text/plain": [
       "<Figure size 864x864 with 10 Axes>"
      ]
     },
     "metadata": {},
     "output_type": "display_data"
    }
   ],
   "source": [
    "plot_duration_for_classes(df_meta)"
   ]
  },
  {
   "cell_type": "markdown",
   "metadata": {},
   "source": [
    "# Generate audio features from audio files with the help of librosa"
   ]
  },
  {
   "cell_type": "markdown",
   "metadata": {},
   "source": [
    "What we're aiming for is a dataframe:\n",
    "* **rows**: all observations (audio files)\n",
    "* **columns**: the audio features which we extract as numerical values from the files with librosa. They can be aggregated as statistical measures, e.g. `np.mean`, `np.std` etc.\n",
    "\n",
    "audio_file_name | feature1 | feature 2 | ... | feature n | class\n",
    "--- |--- |--- |--- |--- |---\n",
    "100032-3-0-0.wav | 0.45 | -0.3 | ... | 43.23 | dog_barking\n",
    "... | ... | ... | ... | ... | ...\n",
    "\n",
    "* TODO\n",
    "    * build functions for every desired audio feature to be extracted from one sound\n",
    "    * define a config dictionary (later YAML?) in which user can provide which feature and which statistical metric (np.mean, np.std, etc.) she wants\n",
    "    * build function which takes this config dictionary and generates the features for one sound\n",
    "    * build function which builds a multidimensional array with all audio features for **all** sounds of a provided file path list and a provided config file\n",
    "    * build function which generates a list of header names for all the columns of that array, with which above dataframe can be generated. Headernames can be of the form `feature_measure`, e.g. `chroma_std`."
   ]
  },
  {
   "cell_type": "markdown",
   "metadata": {},
   "source": [
    "### Calculate features for one audio file (audio time series and sampling rate)"
   ]
  },
  {
   "cell_type": "markdown",
   "metadata": {},
   "source": [
    "Let's test it for one audio file"
   ]
  },
  {
   "cell_type": "code",
   "execution_count": 13,
   "metadata": {},
   "outputs": [],
   "source": [
    "# load one audio file\n",
    "y, sr = librosa.core.load(all_audio_path_list[0])"
   ]
  },
  {
   "cell_type": "code",
   "execution_count": 14,
   "metadata": {},
   "outputs": [],
   "source": [
    "chrom_arr = np.mean(calc_chroma(y, sr), axis=1)"
   ]
  },
  {
   "cell_type": "code",
   "execution_count": 15,
   "metadata": {
    "scrolled": true
   },
   "outputs": [],
   "source": [
    "mfcc_arr = np.mean(calc_mfcc(y, sr), axis=1)"
   ]
  },
  {
   "cell_type": "markdown",
   "metadata": {},
   "source": [
    "Continue loading all files"
   ]
  },
  {
   "cell_type": "code",
   "execution_count": 34,
   "metadata": {},
   "outputs": [
    {
     "data": {
      "text/plain": [
       "['chroma_std',\n",
       " 'chroma_mean',\n",
       " 'mfcc_std',\n",
       " 'mfcc_mean',\n",
       " 'zcr_std',\n",
       " 'zcr_mean',\n",
       " 'sc_std',\n",
       " 'sc_mean',\n",
       " 'sr_std',\n",
       " 'sr_mean',\n",
       " 'sb_std',\n",
       " 'sb_mean',\n",
       " 'rms_std',\n",
       " 'rms_mean']"
      ]
     },
     "execution_count": 34,
     "metadata": {},
     "output_type": "execute_result"
    }
   ],
   "source": [
    "get_column_headers_from_config(librosa_config)"
   ]
  },
  {
   "cell_type": "markdown",
   "metadata": {},
   "source": [
    "### Build the dataframe"
   ]
  },
  {
   "cell_type": "code",
   "execution_count": 16,
   "metadata": {},
   "outputs": [
    {
     "data": {
      "application/vnd.jupyter.widget-view+json": {
       "model_id": "576b22f5a273401c810acd82cbb68563",
       "version_major": 2,
       "version_minor": 0
      },
      "text/plain": [
       "HBox(children=(FloatProgress(value=0.0, max=8732.0), HTML(value='')))"
      ]
     },
     "metadata": {},
     "output_type": "display_data"
    },
    {
     "name": "stderr",
     "output_type": "stream",
     "text": [
      "/home/flo/anaconda3/envs/fin-project3/lib/python3.8/site-packages/librosa/core/pitch.py:153: UserWarning: Trying to estimate tuning from empty frequency set.\n",
      "  warnings.warn(\"Trying to estimate tuning from empty frequency set.\")\n",
      "/home/flo/anaconda3/envs/fin-project3/lib/python3.8/site-packages/librosa/core/spectrum.py:222: UserWarning: n_fft=2048 is too small for input signal of length=1323\n",
      "  warnings.warn(\n",
      "/home/flo/anaconda3/envs/fin-project3/lib/python3.8/site-packages/librosa/core/spectrum.py:222: UserWarning: n_fft=2048 is too small for input signal of length=1103\n",
      "  warnings.warn(\n",
      "/home/flo/anaconda3/envs/fin-project3/lib/python3.8/site-packages/librosa/core/spectrum.py:222: UserWarning: n_fft=2048 is too small for input signal of length=1523\n",
      "  warnings.warn(\n"
     ]
    },
    {
     "name": "stdout",
     "output_type": "stream",
     "text": [
      "\n"
     ]
    },
    {
     "ename": "NameError",
     "evalue": "name 'get_column_headers_from_config' is not defined",
     "output_type": "error",
     "traceback": [
      "\u001b[0;31m---------------------------------------------------------------------------\u001b[0m",
      "\u001b[0;31mNameError\u001b[0m                                 Traceback (most recent call last)",
      "\u001b[0;32m<ipython-input-16-468eee26b8aa>\u001b[0m in \u001b[0;36m<module>\u001b[0;34m\u001b[0m\n\u001b[1;32m      1\u001b[0m \u001b[0;31m# this custom function builds the dataframe from a feature config file librosa_config and uses all the audio\u001b[0m\u001b[0;34m\u001b[0m\u001b[0;34m\u001b[0m\u001b[0;34m\u001b[0m\u001b[0m\n\u001b[1;32m      2\u001b[0m \u001b[0;31m# files provided in all_audio_path_list\u001b[0m\u001b[0;34m\u001b[0m\u001b[0;34m\u001b[0m\u001b[0;34m\u001b[0m\u001b[0m\n\u001b[0;32m----> 3\u001b[0;31m \u001b[0mdf_feats\u001b[0m \u001b[0;34m=\u001b[0m \u001b[0mgenerate_original_dataframe\u001b[0m\u001b[0;34m(\u001b[0m\u001b[0mlibrosa_config\u001b[0m\u001b[0;34m,\u001b[0m \u001b[0mall_audio_path_list\u001b[0m\u001b[0;34m,\u001b[0m \u001b[0mdisable_progress\u001b[0m\u001b[0;34m=\u001b[0m\u001b[0;32mFalse\u001b[0m\u001b[0;34m)\u001b[0m\u001b[0;34m\u001b[0m\u001b[0;34m\u001b[0m\u001b[0m\n\u001b[0m",
      "\u001b[0;32m~/Documents/coding/ironhack/urban-sound-classification/urban_sound_python/librosa_feature_generation.py\u001b[0m in \u001b[0;36mgenerate_original_dataframe\u001b[0;34m(config_file, all_audio_path_list, disable_progress)\u001b[0m\n\u001b[1;32m    130\u001b[0m                                                    \u001b[0mreturn_filenames\u001b[0m\u001b[0;34m=\u001b[0m\u001b[0;32mTrue\u001b[0m\u001b[0;34m,\u001b[0m\u001b[0;34m\u001b[0m\u001b[0;34m\u001b[0m\u001b[0m\n\u001b[1;32m    131\u001b[0m                                                    disable_progress=disable_progress)\n\u001b[0;32m--> 132\u001b[0;31m     \u001b[0mcolumn_headers\u001b[0m \u001b[0;34m=\u001b[0m \u001b[0mget_column_headers_from_config\u001b[0m\u001b[0;34m(\u001b[0m\u001b[0mconfig_file\u001b[0m\u001b[0;34m)\u001b[0m\u001b[0;34m\u001b[0m\u001b[0;34m\u001b[0m\u001b[0m\n\u001b[0m\u001b[1;32m    133\u001b[0m     \u001b[0;32mreturn\u001b[0m \u001b[0mpd\u001b[0m\u001b[0;34m.\u001b[0m\u001b[0mDataFrame\u001b[0m\u001b[0;34m(\u001b[0m\u001b[0mdata\u001b[0m\u001b[0;34m=\u001b[0m\u001b[0mfeature_data\u001b[0m\u001b[0;34m,\u001b[0m \u001b[0mcolumns\u001b[0m\u001b[0;34m=\u001b[0m\u001b[0mcolumn_headers\u001b[0m\u001b[0;34m)\u001b[0m\u001b[0;34m\u001b[0m\u001b[0;34m\u001b[0m\u001b[0m\n",
      "\u001b[0;31mNameError\u001b[0m: name 'get_column_headers_from_config' is not defined"
     ]
    }
   ],
   "source": [
    "# this custom function builds the dataframe from a feature config file librosa_config and uses all the audio\n",
    "# files provided in all_audio_path_list\n",
    "df_feats = generate_original_dataframe(librosa_config, all_audio_path_list, disable_progress=False)"
   ]
  },
  {
   "cell_type": "markdown",
   "metadata": {},
   "source": [
    "### Pickle resulting dataframe"
   ]
  },
  {
   "cell_type": "code",
   "execution_count": null,
   "metadata": {},
   "outputs": [],
   "source": [
    "# pickle data\n",
    "pd.to_pickle(df_feats, \"./data/df_feats.pkl\")"
   ]
  },
  {
   "cell_type": "markdown",
   "metadata": {},
   "source": [
    "### Unpickle dataframe (start here if you don't want to regenerate the dataframe)"
   ]
  },
  {
   "cell_type": "code",
   "execution_count": 17,
   "metadata": {},
   "outputs": [],
   "source": [
    "# add filename column and class column\n",
    "df_feats = pd.read_pickle(\"./data/df_feats.pkl\")"
   ]
  },
  {
   "cell_type": "code",
   "execution_count": 18,
   "metadata": {},
   "outputs": [
    {
     "data": {
      "text/html": [
       "<div>\n",
       "<style scoped>\n",
       "    .dataframe tbody tr th:only-of-type {\n",
       "        vertical-align: middle;\n",
       "    }\n",
       "\n",
       "    .dataframe tbody tr th {\n",
       "        vertical-align: top;\n",
       "    }\n",
       "\n",
       "    .dataframe thead th {\n",
       "        text-align: right;\n",
       "    }\n",
       "</style>\n",
       "<table border=\"1\" class=\"dataframe\">\n",
       "  <thead>\n",
       "    <tr style=\"text-align: right;\">\n",
       "      <th></th>\n",
       "      <th>chroma_std</th>\n",
       "      <th>chroma_mean</th>\n",
       "      <th>mfcc_std</th>\n",
       "      <th>mfcc_mean</th>\n",
       "      <th>zcr_std</th>\n",
       "      <th>zcr_mean</th>\n",
       "      <th>sc_std</th>\n",
       "      <th>sc_mean</th>\n",
       "      <th>sr_std</th>\n",
       "      <th>sr_mean</th>\n",
       "      <th>sb_std</th>\n",
       "      <th>sb_mean</th>\n",
       "      <th>rms_std</th>\n",
       "      <th>rms_mean</th>\n",
       "      <th>filename</th>\n",
       "      <th>class</th>\n",
       "    </tr>\n",
       "  </thead>\n",
       "  <tbody>\n",
       "    <tr>\n",
       "      <th>0</th>\n",
       "      <td>0.306090</td>\n",
       "      <td>0.371429</td>\n",
       "      <td>103.695343</td>\n",
       "      <td>-10.487583</td>\n",
       "      <td>0.018313</td>\n",
       "      <td>0.051738</td>\n",
       "      <td>71.987518</td>\n",
       "      <td>730.361316</td>\n",
       "      <td>167.970889</td>\n",
       "      <td>1135.907582</td>\n",
       "      <td>110.704940</td>\n",
       "      <td>1066.102898</td>\n",
       "      <td>0.002671</td>\n",
       "      <td>0.015961</td>\n",
       "      <td>159751-8-0-8.wav</td>\n",
       "      <td>siren</td>\n",
       "    </tr>\n",
       "    <tr>\n",
       "      <th>1</th>\n",
       "      <td>0.310757</td>\n",
       "      <td>0.577193</td>\n",
       "      <td>84.661896</td>\n",
       "      <td>-2.623090</td>\n",
       "      <td>0.037075</td>\n",
       "      <td>0.041589</td>\n",
       "      <td>453.239703</td>\n",
       "      <td>1128.429451</td>\n",
       "      <td>1142.178408</td>\n",
       "      <td>2106.208651</td>\n",
       "      <td>309.005205</td>\n",
       "      <td>1747.776761</td>\n",
       "      <td>0.040356</td>\n",
       "      <td>0.049245</td>\n",
       "      <td>49808-3-0-6.wav</td>\n",
       "      <td>dog_bark</td>\n",
       "    </tr>\n",
       "    <tr>\n",
       "      <th>2</th>\n",
       "      <td>0.288669</td>\n",
       "      <td>0.324986</td>\n",
       "      <td>37.574150</td>\n",
       "      <td>-0.397206</td>\n",
       "      <td>0.011540</td>\n",
       "      <td>0.071456</td>\n",
       "      <td>138.774597</td>\n",
       "      <td>1563.163963</td>\n",
       "      <td>357.189589</td>\n",
       "      <td>3229.420357</td>\n",
       "      <td>144.701979</td>\n",
       "      <td>1838.907310</td>\n",
       "      <td>0.025321</td>\n",
       "      <td>0.148258</td>\n",
       "      <td>79377-9-0-4.wav</td>\n",
       "      <td>street_music</td>\n",
       "    </tr>\n",
       "    <tr>\n",
       "      <th>3</th>\n",
       "      <td>0.296240</td>\n",
       "      <td>0.286259</td>\n",
       "      <td>61.013550</td>\n",
       "      <td>-8.226327</td>\n",
       "      <td>0.028725</td>\n",
       "      <td>0.104484</td>\n",
       "      <td>228.629427</td>\n",
       "      <td>1594.837664</td>\n",
       "      <td>446.762271</td>\n",
       "      <td>2861.239924</td>\n",
       "      <td>107.500296</td>\n",
       "      <td>1539.256136</td>\n",
       "      <td>0.025430</td>\n",
       "      <td>0.054579</td>\n",
       "      <td>171165-9-0-15.wav</td>\n",
       "      <td>street_music</td>\n",
       "    </tr>\n",
       "    <tr>\n",
       "      <th>4</th>\n",
       "      <td>0.294393</td>\n",
       "      <td>0.410723</td>\n",
       "      <td>59.436771</td>\n",
       "      <td>-5.889602</td>\n",
       "      <td>0.015472</td>\n",
       "      <td>0.051219</td>\n",
       "      <td>238.341885</td>\n",
       "      <td>1334.639268</td>\n",
       "      <td>704.749720</td>\n",
       "      <td>2613.919261</td>\n",
       "      <td>247.072554</td>\n",
       "      <td>1763.160701</td>\n",
       "      <td>0.037223</td>\n",
       "      <td>0.064975</td>\n",
       "      <td>157940-9-0-2.wav</td>\n",
       "      <td>street_music</td>\n",
       "    </tr>\n",
       "  </tbody>\n",
       "</table>\n",
       "</div>"
      ],
      "text/plain": [
       "   chroma_std  chroma_mean    mfcc_std  mfcc_mean   zcr_std  zcr_mean  \\\n",
       "0    0.306090     0.371429  103.695343 -10.487583  0.018313  0.051738   \n",
       "1    0.310757     0.577193   84.661896  -2.623090  0.037075  0.041589   \n",
       "2    0.288669     0.324986   37.574150  -0.397206  0.011540  0.071456   \n",
       "3    0.296240     0.286259   61.013550  -8.226327  0.028725  0.104484   \n",
       "4    0.294393     0.410723   59.436771  -5.889602  0.015472  0.051219   \n",
       "\n",
       "       sc_std      sc_mean       sr_std      sr_mean      sb_std      sb_mean  \\\n",
       "0   71.987518   730.361316   167.970889  1135.907582  110.704940  1066.102898   \n",
       "1  453.239703  1128.429451  1142.178408  2106.208651  309.005205  1747.776761   \n",
       "2  138.774597  1563.163963   357.189589  3229.420357  144.701979  1838.907310   \n",
       "3  228.629427  1594.837664   446.762271  2861.239924  107.500296  1539.256136   \n",
       "4  238.341885  1334.639268   704.749720  2613.919261  247.072554  1763.160701   \n",
       "\n",
       "    rms_std  rms_mean           filename         class  \n",
       "0  0.002671  0.015961   159751-8-0-8.wav         siren  \n",
       "1  0.040356  0.049245    49808-3-0-6.wav      dog_bark  \n",
       "2  0.025321  0.148258    79377-9-0-4.wav  street_music  \n",
       "3  0.025430  0.054579  171165-9-0-15.wav  street_music  \n",
       "4  0.037223  0.064975   157940-9-0-2.wav  street_music  "
      ]
     },
     "execution_count": 18,
     "metadata": {},
     "output_type": "execute_result"
    }
   ],
   "source": [
    "df_feats.head()"
   ]
  },
  {
   "cell_type": "code",
   "execution_count": null,
   "metadata": {},
   "outputs": [],
   "source": [
    "# scaler = StandardScaler()\n",
    "# scaler.fit(df_feats)\n",
    "# arr_feats = scaler.transform(df_feats)\n",
    "# df_feats = pd.DataFrame(data=arr_feats, columns=column_headers)\n",
    "# df_feats.head()"
   ]
  },
  {
   "cell_type": "markdown",
   "metadata": {},
   "source": [
    "# EDA"
   ]
  },
  {
   "cell_type": "markdown",
   "metadata": {},
   "source": [
    "Function to generate boxplots for each feature of each class"
   ]
  },
  {
   "cell_type": "code",
   "execution_count": null,
   "metadata": {},
   "outputs": [],
   "source": [
    "def plot_boxplots_for_classes(class_):\n",
    "    sns.set(rc={'figure.figsize':(14,8)})\n",
    "    g = sns.boxplot(x=\"variable\",\n",
    "                    y=\"value\",\n",
    "                    data=pd.melt(df_feats[df_feats['class']==class_].drop(['filename','class'], axis=1)),\n",
    "                    fliersize=1);\n",
    "    g.set_xticklabels(g.get_xticklabels(),\n",
    "                      rotation=90,\n",
    "                     );\n",
    "    g.set_xlabel('feature');\n",
    "    g.set_ylabel('value');\n",
    "    g.set_title(class_, fontdict={'fontsize':20})\n",
    "    plt.show()"
   ]
  },
  {
   "cell_type": "markdown",
   "metadata": {},
   "source": [
    "### generate the boxplots"
   ]
  },
  {
   "cell_type": "code",
   "execution_count": null,
   "metadata": {},
   "outputs": [],
   "source": [
    "[plot_boxplots_for_classes(class_) for class_ in df_feats['class'].unique()]"
   ]
  },
  {
   "cell_type": "code",
   "execution_count": null,
   "metadata": {},
   "outputs": [],
   "source": [
    "df_feats_melt = pd.melt(df_feats.drop(['filename'], axis=1), id_vars='class').rename(columns={'variable':'feature'})"
   ]
  },
  {
   "cell_type": "code",
   "execution_count": null,
   "metadata": {},
   "outputs": [],
   "source": [
    "df_feats_melt.head()"
   ]
  },
  {
   "cell_type": "markdown",
   "metadata": {},
   "source": [
    "### Boxplots for each class next to each other per feature"
   ]
  },
  {
   "cell_type": "code",
   "execution_count": null,
   "metadata": {},
   "outputs": [],
   "source": [
    "sns.set(rc={'figure.figsize':(14,35)})\n",
    "sns.boxplot(y=\"feature\",\n",
    "            x=\"value\",\n",
    "            hue=\"class\",\n",
    "            data=df_feats_melt,\n",
    "            palette=\"Pastel1\",\n",
    "            fliersize=2,\n",
    "            width=.5,\n",
    "           )\n",
    "plt.show()"
   ]
  },
  {
   "cell_type": "markdown",
   "metadata": {},
   "source": [
    "# Predict the class!"
   ]
  },
  {
   "cell_type": "markdown",
   "metadata": {},
   "source": [
    "### Random forest, first iteration"
   ]
  },
  {
   "cell_type": "code",
   "execution_count": null,
   "metadata": {},
   "outputs": [],
   "source": [
    "df = pd.read_pickle(\"./data/df_feats.pkl\")"
   ]
  },
  {
   "cell_type": "code",
   "execution_count": null,
   "metadata": {},
   "outputs": [],
   "source": [
    "df.head()"
   ]
  },
  {
   "cell_type": "code",
   "execution_count": null,
   "metadata": {},
   "outputs": [],
   "source": [
    "X = df.drop(['filename', 'class'], axis=1)\n",
    "y = df['class']"
   ]
  },
  {
   "cell_type": "code",
   "execution_count": null,
   "metadata": {},
   "outputs": [],
   "source": [
    "X_train, X_test, y_train, y_test = train_test_split(X, y, test_size=0.33, random_state=42)"
   ]
  },
  {
   "cell_type": "markdown",
   "metadata": {},
   "source": [
    "For the first iteration, let's choose the standard RandomForestClassifier with default values\n",
    "* `n_estimators=100`,\n",
    "* `criterion='gini'`,\n",
    "* `max_depth=None`,\n",
    "* `min_samples_split=2`,\n",
    "* `min_samples_leaf=1`,\n",
    "* `min_weight_fraction_leaf=0.0`,\n",
    "* `max_features='auto'`,\n",
    "* `max_leaf_nodes=None`,\n",
    "* `min_impurity_decrease=0.0`,\n",
    "* `min_impurity_split=None`,\n",
    "* `bootstrap=True`,\n",
    "* `oob_score=False`,\n",
    "* `n_jobs=None`,\n",
    "* `random_state=None`,\n",
    "* `verbose=0`,\n",
    "* `warm_start=False`,\n",
    "* `class_weight=None`,\n",
    "* `ccp_alpha=0.0`,\n",
    "* `max_samples=None`,"
   ]
  },
  {
   "cell_type": "code",
   "execution_count": null,
   "metadata": {},
   "outputs": [],
   "source": [
    "forest_clf = RandomForestClassifier(random_state=42)"
   ]
  },
  {
   "cell_type": "code",
   "execution_count": null,
   "metadata": {},
   "outputs": [],
   "source": [
    "forest_clf.fit(X_train, y_train)"
   ]
  },
  {
   "cell_type": "code",
   "execution_count": null,
   "metadata": {},
   "outputs": [],
   "source": [
    "y_pred = forest_clf.predict(X_test)\n",
    "\n",
    "accuracy_score(y_test, y_pred)"
   ]
  },
  {
   "cell_type": "code",
   "execution_count": null,
   "metadata": {},
   "outputs": [],
   "source": [
    "y_labels = list(y_test.unique())"
   ]
  },
  {
   "cell_type": "code",
   "execution_count": null,
   "metadata": {},
   "outputs": [],
   "source": [
    "# calculate the confusion matrix\n",
    "cnf_mat = confusion_matrix(y_test, y_pred, labels=y_labels)\n",
    "\n",
    "# plot\n",
    "sns.set(rc={'figure.figsize':(10,10)})\n",
    "g = sns.heatmap(cnf_mat,\n",
    "            annot=True,\n",
    "            fmt='d',\n",
    "            xticklabels=y_labels,\n",
    "            yticklabels=y_labels,\n",
    "           );\n",
    "g.set_title(\"Classification results\");\n",
    "g.set_xlabel(\"predicted\");\n",
    "g.set_ylabel(\"true\");"
   ]
  },
  {
   "cell_type": "markdown",
   "metadata": {},
   "source": [
    "Observations:\n",
    "* With an accuracy score of 82% for the test data, this is already a fairly decent model"
   ]
  },
  {
   "cell_type": "code",
   "execution_count": null,
   "metadata": {},
   "outputs": [],
   "source": [
    "row_sums = cnf_mat.sum(axis=1, keepdims=True)\n",
    "norm_cnf_mat = cnf_mat / row_sums\n",
    "\n",
    "# fill diagonal with zeros\n",
    "np.fill_diagonal(norm_cnf_mat, 0)\n",
    "g = sns.heatmap(norm_cnf_mat,\n",
    "            annot=True,\n",
    "            #fmt='d',\n",
    "            xticklabels=y_labels,\n",
    "            yticklabels=y_labels,\n",
    "                cmap=plt.cm.gray,\n",
    "           );\n",
    "g.set_title(\"Classification errors (sum of all predictions = 1), main diagonal set to 0\");\n",
    "g.set_xlabel(\"predicted\");\n",
    "g.set_ylabel(\"true\");"
   ]
  },
  {
   "cell_type": "markdown",
   "metadata": {},
   "source": [
    "What we can observe here: `dog_bark`, `street_music` and `car_horn` is relatively often mistaken by the model as `children_playing`. \n",
    "* **TODO** So let's look at those features specifically and try to find something that distinguishes them"
   ]
  },
  {
   "cell_type": "code",
   "execution_count": null,
   "metadata": {},
   "outputs": [],
   "source": [
    "df_selected = df_feats_melt[df_feats_melt['class'].isin(['dog_bark', 'street_music', 'car_horn', 'children_playing'])]"
   ]
  },
  {
   "cell_type": "code",
   "execution_count": null,
   "metadata": {},
   "outputs": [],
   "source": [
    "sns.set(rc={'figure.figsize':(14,35)})\n",
    "sns.boxplot(y=\"feature\",\n",
    "            x=\"value\",\n",
    "            hue=\"class\",\n",
    "            data=df_selected,\n",
    "            palette=\"Pastel1\",\n",
    "            fliersize=2,\n",
    "            width=.5,\n",
    "           )\n",
    "plt.show()"
   ]
  },
  {
   "cell_type": "markdown",
   "metadata": {},
   "source": [
    "* high overlap in `chroma_std`, `zcr_std`, `sc_mean`, `sr_mean`, `sb_mean`"
   ]
  },
  {
   "cell_type": "code",
   "execution_count": null,
   "metadata": {},
   "outputs": [],
   "source": [
    "import matplotlib.pyplot as plt\n",
    "\n",
    "from collections import OrderedDict\n",
    "\n",
    "RANDOM_STATE = 123\n",
    "\n",
    "ensemble_clfs = [\n",
    "    (\"RandomForestClassifier, max_features='sqrt'\",\n",
    "        RandomForestClassifier(warm_start=True, oob_score=True,\n",
    "                               max_features=\"sqrt\",\n",
    "                               random_state=RANDOM_STATE)),\n",
    "    (\"RandomForestClassifier, max_features='log2'\",\n",
    "        RandomForestClassifier(warm_start=True, max_features='log2',\n",
    "                               oob_score=True,\n",
    "                               random_state=RANDOM_STATE)),\n",
    "#    (\"RandomForestClassifier, max_features=None\",\n",
    "#        RandomForestClassifier(warm_start=True, max_features=None,\n",
    "#                               oob_score=True,\n",
    "#                               random_state=RANDOM_STATE))\n",
    "]\n",
    "\n",
    "# Map a classifier name to a list of (<n_estimators>, <error rate>) pairs.\n",
    "error_rate = OrderedDict((label, []) for label, _ in ensemble_clfs)\n",
    "\n",
    "# Range of `n_estimators` values to explore.\n",
    "min_estimators = 400\n",
    "max_estimators = 3000\n",
    "\n",
    "for label, clf in ensemble_clfs:\n",
    "    for i in tqdm(range(min_estimators, max_estimators + 1)):\n",
    "        clf.set_params(n_estimators=i)\n",
    "        clf.fit(X, y)\n",
    "\n",
    "        # Record the OOB error for each `n_estimators=i` setting.\n",
    "        oob_error = 1 - clf.oob_score_\n",
    "        error_rate[label].append((i, oob_error))"
   ]
  },
  {
   "cell_type": "code",
   "execution_count": null,
   "metadata": {},
   "outputs": [],
   "source": [
    "# Generate the \"OOB error rate\" vs. \"n_estimators\" plot.\n",
    "sns.set(rc={'figure.figsize':(12,10)})\n",
    "for label, clf_err in error_rate.items():\n",
    "    xs, ys = zip(*clf_err)\n",
    "    plt.plot(xs, ys, label=label)\n",
    "\n",
    "plt.xlim(min_estimators, max_estimators)\n",
    "plt.xlabel(\"n_estimators\")\n",
    "plt.ylabel(\"OOB error rate\")\n",
    "plt.legend(loc=\"upper right\")\n",
    "plt.show()"
   ]
  },
  {
   "cell_type": "code",
   "execution_count": null,
   "metadata": {},
   "outputs": [],
   "source": [
    "pd.to_pickle(ensemble_clfs, './data/ensemble_clfs_sqrt_log2.pkl')"
   ]
  },
  {
   "cell_type": "code",
   "execution_count": null,
   "metadata": {},
   "outputs": [],
   "source": [
    "pd.to_pickle(error_rate, \"./data/error_rate_ordered_dct.pkl\")"
   ]
  },
  {
   "cell_type": "markdown",
   "metadata": {},
   "source": [
    "What's the number of estimators with the minimum error rate?"
   ]
  },
  {
   "cell_type": "code",
   "execution_count": null,
   "metadata": {},
   "outputs": [],
   "source": [
    "import operator\n",
    "min([err for _, clf_err in error_rate.items() for err in clf_err], key=operator.itemgetter(1))"
   ]
  },
  {
   "cell_type": "code",
   "execution_count": null,
   "metadata": {},
   "outputs": [],
   "source": []
  },
  {
   "cell_type": "markdown",
   "metadata": {},
   "source": [
    "Let's use 2043 then as the `n_estimators` parameter"
   ]
  },
  {
   "cell_type": "code",
   "execution_count": null,
   "metadata": {},
   "outputs": [],
   "source": [
    "rfc_tuned = RandomForestClassifier(max_features=\"sqrt\",random_state=RANDOM_STATE, n_estimators=2043)\n",
    "rfc_tuned.fit(X_train, y_train)\n",
    "y_pred = rfc_tuned.predict(X_test)\n",
    "\n",
    "accuracy_score(y_test, y_pred)"
   ]
  },
  {
   "cell_type": "markdown",
   "metadata": {},
   "source": [
    "2 percent increase \\o/"
   ]
  },
  {
   "cell_type": "markdown",
   "metadata": {},
   "source": [
    "## Model optimization approaches\n",
    "\n",
    "* Hyperparameter tuning (ensemble methods, number of trees etc. ...)\n",
    "* Feature inspection: Why are some classes confused with some specific classes more than with others. Generate features that distinguish them\n",
    "* Build a *hard-voting-classifier* out of several algorithms - Predictions are then majority votes (`from sklearn.ensemble import VotingClassifier`)"
   ]
  },
  {
   "cell_type": "markdown",
   "metadata": {},
   "source": [
    "# Pipeline approach (with k-fold cross validation)"
   ]
  },
  {
   "cell_type": "code",
   "execution_count": null,
   "metadata": {},
   "outputs": [],
   "source": [
    "from sklearn.pipeline import Pipeline\n",
    "from sklearn.impute import SimpleImputer\n",
    "from sklearn.preprocessing import StandardScaler, OneHotEncoder\n",
    "from sklearn.compose import ColumnTransformer\n",
    "from sklearn.ensemble import RandomForestClassifier\n",
    "from sklearn.model_selection import train_test_split, GridSearchCV, StratifiedKFold\n",
    "from imblearn.over_sampling import SMOTE\n",
    "from imblearn.pipeline import Pipeline as imbpipeline\n",
    "\n",
    "# numeric_transformer = Pipeline(steps=[\n",
    "#     ('imputer', SimpleImputer(strategy='median')),\n",
    "#     ('scaler', StandardScaler())])\n",
    "\n",
    "# categorical_transformer = Pipeline(steps=[\n",
    "#     ('imputer', SimpleImputer(strategy='constant', fill_value='missing')),\n",
    "#     ('onehot', OneHotEncoder(handle_unknown='ignore'))])\n",
    "\n",
    "# numeric_features = train.select_dtypes(include=['int64', 'float64']).columns\n",
    "# categorical_features = train.select_dtypes(include=['object']).drop(['Loan_Status'], axis=1).columns\n",
    "\n",
    "# preprocessor = ColumnTransformer(\n",
    "#     transformers=[\n",
    "#         ('num', numeric_transformer, numeric_features),\n",
    "#         ('cat', categorical_transformer, categorical_features)\n",
    "#     ])\n",
    "\n",
    "# pipeline = Pipeline(steps=[('preprocessor', preprocessor),\n",
    "#                       ('classifier', RandomForestClassifier())])\n",
    "\n",
    "df = pd.read_pickle(\"./data/df_feats.pkl\")\n",
    "X = df.drop(['filename', 'class'], axis=1)\n",
    "y = df['class']\n",
    "\n",
    "X_train, X_test, y_train, y_test = train_test_split(X,\n",
    "                                                    y,\n",
    "                                                    test_size=0.2,\n",
    "                                                    stratify=y,\n",
    "                                                    random_state=11)\n",
    "# smoting\n",
    "smote = SMOTE(random_state = 11)\n",
    "X_train, y_train = smote.fit_resample(X_train, y_train)\n",
    "\n",
    "pipeline = Pipeline(steps = [['scaler', StandardScaler()],\n",
    "                             ['classifier', RandomForestClassifier(bootstrap=True)]])"
   ]
  },
  {
   "cell_type": "code",
   "execution_count": null,
   "metadata": {},
   "outputs": [],
   "source": [
    "pipeline.get_params().keys()"
   ]
  },
  {
   "cell_type": "code",
   "execution_count": null,
   "metadata": {},
   "outputs": [],
   "source": [
    "stratified_kfold = StratifiedKFold(n_splits=8,\n",
    "                                   shuffle=True,\n",
    "                                   random_state=11,\n",
    "                                  )\n",
    "\n",
    "\n",
    "param_grid = {'classifier__n_estimators':[200, 250, 300, 350, 400, 450, 500],\n",
    "              'classifier__max_features':['auto', 'sqrt', 'log2'],\n",
    "              'classifier__max_depth':[4,5,6,7,8, None],\n",
    "              'classifier__criterion':['gini', 'entropy'],\n",
    "             }\n",
    "\n",
    "\n",
    "grid_search = GridSearchCV(estimator=pipeline,\n",
    "                           param_grid=param_grid,\n",
    "                           scoring='f1_weighted',  # because multiclass problem\n",
    "                           cv=stratified_kfold,\n",
    "                           n_jobs=-1,\n",
    "                           verbose=4,\n",
    "                          )\n",
    "\n",
    "grid_search.fit(X_train, y_train)\n",
    "\n",
    "cv_score = grid_search.best_score_\n",
    "best_params = grid_search.best_params_\n",
    "\n",
    "test_score = grid_search.score(X_test, y_test)\n",
    "\n",
    "print(f'Cross-validation score: {cv_score}\\n'\n",
    "      f'Test score: {test_score}\\n'\n",
    "      f'Best params: {best_params}\\n'\n",
    "     )\n",
    "\n",
    "\n",
    "\n",
    "# define pipeline\n",
    "# rf = Pipeline(steps=[('preprocessor', preprocessor),\n",
    "#                      ('classifier', RandomForestClassifier())])\n",
    "\n",
    "# apply pipeline (including model fitting)\n",
    "# rf.fit(X_train, y_train)\n",
    "\n",
    "# y_pred = rf.predict(X_test)"
   ]
  },
  {
   "cell_type": "code",
   "execution_count": null,
   "metadata": {},
   "outputs": [],
   "source": [
    "grid_search.cv_results_"
   ]
  },
  {
   "cell_type": "code",
   "execution_count": null,
   "metadata": {},
   "outputs": [],
   "source": [
    "X_train, X_test, y_train, y_test = train_test_split(X,\n",
    "                                                    y,\n",
    "                                                    test_size=0.2,\n",
    "                                                    stratify=y,\n",
    "                                                    random_state=11)\n",
    "# smoting\n",
    "smote = SMOTE(random_state = 11)\n",
    "X_train, y_train = smote.fit_resample(X_train, y_train)\n",
    "\n",
    "pipeline = Pipeline(steps = [['scaler', StandardScaler()],\n",
    "                             ['classifier', RandomForestClassifier(bootstrap=True,\n",
    "                                                                  criterion='entropy',\n",
    "                                                                  n_estimators=500)]])\n",
    "\n",
    "pipeline.fit(X_train, y_train)\n",
    "y_pred = pipeline.predict(X_test)"
   ]
  },
  {
   "cell_type": "code",
   "execution_count": null,
   "metadata": {},
   "outputs": [],
   "source": [
    "y_labels = list(y_test.unique())\n",
    "\n",
    "# calculate the confusion matrix\n",
    "cnf_mat = confusion_matrix(y_test, y_pred, labels=y_labels)\n",
    "\n",
    "# plot\n",
    "sns.set(rc={'figure.figsize':(10,10)})\n",
    "g = sns.heatmap(cnf_mat,\n",
    "            annot=True,\n",
    "            fmt='d',\n",
    "            xticklabels=y_labels,\n",
    "            yticklabels=y_labels,\n",
    "           );\n",
    "g.set_title(\"Classification results\");\n",
    "g.set_xlabel(\"predicted\");\n",
    "g.set_ylabel(\"true\");"
   ]
  },
  {
   "cell_type": "code",
   "execution_count": null,
   "metadata": {},
   "outputs": [],
   "source": [
    "accuracy_score(y_test, y_pred)"
   ]
  },
  {
   "cell_type": "code",
   "execution_count": null,
   "metadata": {},
   "outputs": [],
   "source": []
  }
 ],
 "metadata": {
  "kernelspec": {
   "display_name": "Python 3",
   "language": "python",
   "name": "python3"
  },
  "language_info": {
   "codemirror_mode": {
    "name": "ipython",
    "version": 3
   },
   "file_extension": ".py",
   "mimetype": "text/x-python",
   "name": "python",
   "nbconvert_exporter": "python",
   "pygments_lexer": "ipython3",
   "version": "3.8.8"
  }
 },
 "nbformat": 4,
 "nbformat_minor": 4
}
